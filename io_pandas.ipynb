{
 "cells": [
  {
   "cell_type": "code",
   "execution_count": 4,
   "metadata": {},
   "outputs": [
    {
     "name": "stdout",
     "output_type": "stream",
     "text": [
      "          Date  House_Prices\n",
      "0   2015-06-30        502300\n",
      "1   2015-05-31        501500\n",
      "2   2015-04-30        500100\n",
      "3   2015-03-31        495800\n",
      "4   2015-02-28        492700\n",
      "5   2015-01-31        493000\n",
      "6   2014-12-31        494200\n",
      "7   2014-11-30        490900\n",
      "8   2014-10-31        486000\n",
      "9   2014-09-30        479800\n",
      "10  2014-08-31        473900\n",
      "11  2014-07-31        467100\n",
      "12  2014-06-30        461400\n",
      "13  2014-05-31        455400\n",
      "14  2014-04-30        450500\n",
      "15  2014-03-31        450300\n"
     ]
    }
   ],
   "source": [
    "import pandas as pd\n",
    "\n",
    "df = pd.read_csv('data.csv')\n",
    "print(df)"
   ]
  },
  {
   "cell_type": "code",
   "execution_count": 5,
   "metadata": {},
   "outputs": [
    {
     "name": "stdout",
     "output_type": "stream",
     "text": [
      "            House_Prices\n",
      "Date                    \n",
      "2015-06-30        502300\n",
      "2015-05-31        501500\n",
      "2015-04-30        500100\n",
      "2015-03-31        495800\n",
      "2015-02-28        492700\n",
      "2015-01-31        493000\n",
      "2014-12-31        494200\n",
      "2014-11-30        490900\n",
      "2014-10-31        486000\n",
      "2014-09-30        479800\n",
      "2014-08-31        473900\n",
      "2014-07-31        467100\n",
      "2014-06-30        461400\n",
      "2014-05-31        455400\n",
      "2014-04-30        450500\n",
      "2014-03-31        450300\n"
     ]
    }
   ],
   "source": [
    "#setting date as index\n",
    "print(df.set_index('Date'))\n"
   ]
  },
  {
   "cell_type": "code",
   "execution_count": null,
   "metadata": {},
   "outputs": [],
   "source": [
    "from scipy import stats\n",
    "rvs"
   ]
  }
 ],
 "metadata": {
  "kernelspec": {
   "display_name": "Python 3",
   "language": "python",
   "name": "python3"
  },
  "language_info": {
   "codemirror_mode": {
    "name": "ipython",
    "version": 3
   },
   "file_extension": ".py",
   "mimetype": "text/x-python",
   "name": "python",
   "nbconvert_exporter": "python",
   "pygments_lexer": "ipython3",
   "version": "3.6.1"
  }
 },
 "nbformat": 4,
 "nbformat_minor": 2
}
